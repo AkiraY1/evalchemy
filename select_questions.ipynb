{
 "cells": [
  {
   "cell_type": "code",
   "execution_count": 2,
   "id": "08625b96",
   "metadata": {},
   "outputs": [
    {
     "name": "stdout",
     "output_type": "stream",
     "text": [
      "dict_keys(['results', 'config', 'git_hash', 'date', 'pretty_env_info', 'transformers_version', 'upper_git_hash', 'tokenizer_pad_token', 'tokenizer_eos_token', 'tokenizer_bos_token', 'eot_token_id', 'max_length', 'task_hashes', 'model_source', 'model_name', 'model_name_sanitized', 'system_instruction', 'system_instruction_sha', 'fewshot_as_multiturn', 'chat_template', 'chat_template_sha', 'start_time', 'end_time', 'total_evaluation_time_seconds'])\n"
     ]
    }
   ],
   "source": [
    "import json\n",
    "\n",
    "with open(\"/home/ubuntu/ethakira/evalchemy/logs_lcbv6_sample_true_solver_template/Qwen__Qwen3-8B/results_2025-09-10T03-29-26.212917.json\", \"r\") as f:\n",
    "    data = json.load(f)\n",
    "\n",
    "# Print the keys\n",
    "print(data.keys())"
   ]
  },
  {
   "cell_type": "code",
   "execution_count": 3,
   "id": "b1bad47a",
   "metadata": {},
   "outputs": [],
   "source": [
    "import numpy as np\n",
    "# Get a list of per question scores averaged across all five\n",
    "\n",
    "overall_score = np.zeros(1055)\n",
    "labels = np.array([example[\"difficulty\"] for example in data[\"results\"][\"LiveCodeBench\"][\"examples\"][0]])\n",
    "for example in data[\"results\"][\"LiveCodeBench\"][\"examples\"]:\n",
    "    scores = np.array([1 if example[\"correctness\"] else 0 for example in example])\n",
    "    overall_score = overall_score + scores"
   ]
  },
  {
   "cell_type": "code",
   "execution_count": 4,
   "id": "b62c21e7",
   "metadata": {},
   "outputs": [
    {
     "data": {
      "text/plain": [
       "5.0"
      ]
     },
     "execution_count": 4,
     "metadata": {},
     "output_type": "execute_result"
    }
   ],
   "source": [
    "overall_score[961]"
   ]
  },
  {
   "cell_type": "code",
   "execution_count": 5,
   "id": "a375fc55",
   "metadata": {},
   "outputs": [
    {
     "name": "stdout",
     "output_type": "stream",
     "text": [
      "[3. 0. 0. 1. 0. 0. 0. 0. 0. 0. 0. 0. 0. 5. 5. 0. 0. 0. 1. 0. 1. 0. 5. 0.\n",
      " 0. 5. 0. 0. 5. 0. 0. 5. 1. 0. 0. 3. 0. 5. 0. 0.]\n",
      "['medium' 'hard' 'easy' 'medium' 'medium' 'hard' 'medium' 'medium' 'hard'\n",
      " 'easy' 'medium' 'medium' 'hard' 'easy' 'medium' 'medium' 'hard' 'easy'\n",
      " 'medium' 'hard' 'easy' 'hard' 'easy' 'hard' 'hard' 'easy' 'medium' 'hard'\n",
      " 'easy' 'medium' 'hard' 'easy' 'medium' 'medium' 'hard' 'easy' 'hard'\n",
      " 'easy' 'medium' 'hard']\n"
     ]
    }
   ],
   "source": [
    "print(overall_score[-40:])\n",
    "print(labels[-40:])"
   ]
  },
  {
   "cell_type": "code",
   "execution_count": 6,
   "id": "6e6eb1f6",
   "metadata": {},
   "outputs": [
    {
     "name": "stdout",
     "output_type": "stream",
     "text": [
      "30\n",
      "25\n",
      "2\n",
      "10\n",
      "13\n"
     ]
    }
   ],
   "source": [
    "# Count number of questions in overall_score[-175:] that are not 5\n",
    "num_not_5 = sum(overall_score[-37:] != 5)\n",
    "print(num_not_5)\n",
    "\n",
    "# Count number of questions in labels[-175:] that are not 5\n",
    "num_not_0 = sum(overall_score[-37:] == 0)\n",
    "print(num_not_0)\n",
    "\n",
    "# Count number of questions where overall_score[-175:] == 0 and labels[-175:] == \"easy\"\n",
    "num_easy = sum(score == 0 and label == \"easy\" \n",
    "               for score, label in zip(overall_score[-37:], labels[-37:]))\n",
    "print(num_easy)\n",
    "\n",
    "# Count number of questions where overall_score[-175:] == 0 and labels[-175:] == \"easy\"\n",
    "num_medium = sum(score == 0 and label == \"medium\" \n",
    "               for score, label in zip(overall_score[-37:], labels[-37:]))\n",
    "print(num_medium)\n",
    "\n",
    "# Count number of questions where overall_score[-175:] == 0 and labels[-175:] == \"easy\"\n",
    "num_hard = sum(score == 0 and label == \"hard\" \n",
    "               for score, label in zip(overall_score[-37:], labels[-37:]))\n",
    "print(num_hard)"
   ]
  },
  {
   "cell_type": "code",
   "execution_count": 7,
   "id": "6a75d0a8",
   "metadata": {},
   "outputs": [
    {
     "name": "stderr",
     "output_type": "stream",
     "text": [
      "/home/ubuntu/ethakira/verl/.venv/lib/python3.10/site-packages/tqdm/auto.py:21: TqdmWarning: IProgress not found. Please update jupyter and ipywidgets. See https://ipywidgets.readthedocs.io/en/stable/user_install.html\n",
      "  from .autonotebook import tqdm as notebook_tqdm\n"
     ]
    }
   ],
   "source": [
    "from datasets import load_dataset\n",
    "\n",
    "lcb_codegen_v6 = load_dataset(\"livecodebench/code_generation_lite\", version_tag=\"release_v6\", trust_remote_code=True)[\"test\"]\n",
    "lcb_codegen_v5 = load_dataset(\"livecodebench/code_generation_lite\", version_tag=\"release_v5\", trust_remote_code=True)[\"test\"]"
   ]
  },
  {
   "cell_type": "code",
   "execution_count": 8,
   "id": "a7f5070d",
   "metadata": {},
   "outputs": [
    {
     "data": {
      "text/plain": [
       "{'question_title': 'smallest-number-with-all-set-bits',\n",
       " 'question_content': 'You are given a positive number n.\\nReturn the smallest number x greater than or equal to n, such that the binary representation of x contains only set bits\\n \\nExample 1:\\n\\nInput: n = 5\\nOutput: 7\\nExplanation:\\nThe binary representation of 7 is \"111\".\\n\\nExample 2:\\n\\nInput: n = 10\\nOutput: 15\\nExplanation:\\nThe binary representation of 15 is \"1111\".\\n\\nExample 3:\\n\\nInput: n = 3\\nOutput: 3\\nExplanation:\\nThe binary representation of 3 is \"11\".\\n\\n \\nConstraints:\\n\\n1 <= n <= 1000',\n",
       " 'platform': 'leetcode',\n",
       " 'question_id': '3676',\n",
       " 'contest_id': 'weekly-contest-426',\n",
       " 'contest_date': '2024-11-30T18:30:00',\n",
       " 'starter_code': 'class Solution:\\n    def smallestNumber(self, n: int) -> int:\\n        ',\n",
       " 'difficulty': 'easy',\n",
       " 'public_test_cases': '[{\"input\": \"5\", \"output\": \"7\", \"testtype\": \"functional\"}, {\"input\": \"10\", \"output\": \"15\", \"testtype\": \"functional\"}, {\"input\": \"3\", \"output\": \"3\", \"testtype\": \"functional\"}]',\n",
       " 'private_test_cases': 'eJyllMEKwjAMhj0IvsboeUjTbGsj3nwJQTyITBjINrA7iAg+hL6vTjy4nNq0p7bw8ef/E/KYvzaL2fds15/L7qaath+8WmUKK5Vnqhv8713h+Pb1xftrX48/p6E9+qZrD2d1z7M/lJE2GCSHUxS0CZdFElds7BRFCEahZCWXEXZtgl0rTRlIbrYQmwV5xORMQk4kL1lrnSAMfJjDlQ2KwzKFvLtOrgpiFOWoEweMDI3YFQBiVSI+jFGDTHzVRG1HFDsmx4OOK7tKoV0KzVsVIRvZqf1z+QbACTLW',\n",
       " 'metadata': '{\"func_name\": \"smallestNumber\"}'}"
      ]
     },
     "execution_count": 8,
     "metadata": {},
     "output_type": "execute_result"
    }
   ],
   "source": [
    "lcb_codegen_v5[850]"
   ]
  },
  {
   "cell_type": "code",
   "execution_count": 18,
   "id": "905f7f90",
   "metadata": {},
   "outputs": [
    {
     "name": "stdout",
     "output_type": "stream",
     "text": [
      "Indices of questions in chronological order:\n",
      "[16, 17, 9, 10, 11, 18, 190, 191, 192, 193, 194, 195, 21, 22, 196, 197, 198, 199, 200, 201, 23, 24, 29, 12, 13, 14, 34, 202, 203, 204, 205, 206, 30, 31, 207, 208, 209, 210, 211, 15, 19, 33, 20, 32, 212, 213, 214, 215, 216, 26, 35, 41, 217, 218, 219, 220, 221, 25, 43, 45, 51, 38, 44, 47, 48, 222, 223, 224, 225, 226, 36, 40, 53, 227, 228, 229, 230, 231, 232, 46, 52, 54, 58, 39, 56, 65, 233, 234, 235, 236, 237, 28, 49, 55, 61, 238, 239, 240, 241, 242, 243, 42, 66, 69, 70, 64, 68, 71, 72, 244, 245, 246, 247, 248, 57, 63, 77, 249, 250, 251, 252, 253, 254, 50, 59, 60, 79, 78, 80, 83, 255, 256, 257, 67, 75, 258, 259, 260, 261, 262, 263, 73, 88, 76, 89, 90, 264, 265, 266, 267, 268, 269, 27, 37, 84, 85, 0, 1, 2, 677, 91, 93, 95, 82, 87, 270, 271, 272, 273, 274, 74, 86, 100, 275, 276, 277, 278, 92, 97, 81, 99, 104, 279, 280, 281, 282, 283, 101, 106, 108, 3, 4, 284, 285, 286, 287, 288, 102, 110, 98, 103, 107, 289, 290, 291, 292, 293, 111, 115, 294, 295, 296, 297, 298, 96, 113, 114, 120, 105, 117, 299, 300, 301, 302, 303, 304, 94, 112, 5, 6, 7, 8, 305, 306, 307, 308, 309, 310, 62, 118, 122, 109, 116, 121, 311, 312, 313, 314, 315, 119, 123, 316, 317, 318, 319, 320, 124, 125, 132, 133, 321, 322, 323, 324, 325, 126, 128, 127, 130, 136, 326, 327, 328, 329, 330, 331, 129, 137, 138, 139, 142, 332, 333, 334, 335, 336, 144, 145, 146, 153, 337, 338, 339, 340, 341, 135, 140, 141, 143, 147, 152, 155, 342, 343, 344, 345, 131, 149, 151, 346, 347, 348, 349, 350, 148, 156, 167, 169, 351, 352, 353, 354, 355, 134, 164, 172, 150, 154, 157, 158, 161, 165, 166, 356, 357, 358, 359, 159, 160, 163, 360, 361, 362, 363, 162, 170, 175, 364, 365, 366, 367, 368, 168, 174, 179, 183, 369, 370, 371, 372, 373, 374, 171, 177, 182, 375, 376, 377, 378, 173, 184, 379, 380, 381, 382, 383, 178, 180, 181, 185, 187, 384, 385, 386, 387, 388, 389, 176, 186, 390, 391, 392, 393, 394, 188, 189, 395, 396, 397, 398, 399, 400, 401, 402, 403, 404, 457, 458, 459, 460, 405, 406, 461, 462, 463, 464, 479, 480, 481, 482, 407, 408, 409, 410, 411, 465, 466, 467, 468, 412, 413, 414, 415, 469, 470, 471, 483, 484, 485, 416, 417, 418, 419, 420, 472, 473, 474, 421, 422, 423, 424, 425, 475, 476, 477, 478, 486, 487, 426, 427, 428, 429, 430, 488, 431, 432, 433, 434, 435, 436, 489, 490, 491, 496, 497, 498, 437, 438, 439, 440, 441, 492, 493, 494, 495, 442, 443, 444, 445, 446, 499, 500, 507, 508, 447, 448, 449, 450, 451, 501, 502, 503, 452, 453, 454, 455, 456, 504, 505, 506, 509, 510, 511, 512, 513, 514, 515, 564, 565, 566, 516, 517, 518, 519, 520, 567, 568, 569, 597, 598, 599, 521, 522, 523, 524, 525, 570, 571, 572, 526, 527, 528, 529, 530, 573, 574, 575, 600, 601, 602, 576, 577, 578, 531, 532, 533, 534, 535, 536, 537, 538, 539, 540, 541, 579, 580, 581, 582, 603, 604, 605, 542, 543, 544, 545, 546, 583, 584, 547, 548, 549, 550, 551, 552, 585, 586, 587, 588, 606, 607, 608, 553, 554, 555, 556, 557, 558, 589, 590, 591, 592, 559, 560, 561, 562, 563, 593, 594, 609, 610, 611, 665, 666, 667, 668, 595, 596, 612, 613, 614, 615, 616, 617, 618, 669, 670, 671, 672, 619, 620, 621, 622, 623, 624, 625, 693, 694, 678, 679, 680, 626, 627, 628, 629, 630, 631, 632, 681, 682, 673, 674, 675, 676, 633, 634, 635, 636, 637, 638, 695, 696, 697, 698, 683, 684, 685, 686, 639, 640, 641, 642, 643, 644, 645, 687, 688, 689, 690, 646, 647, 648, 649, 650, 651, 652, 699, 700, 701, 691, 692, 653, 654, 655, 656, 657, 658, 702, 703, 704, 797, 798, 799, 659, 660, 661, 662, 663, 664, 709, 710, 711, 712, 705, 706, 713, 714, 715, 716, 717, 718, 719, 707, 708, 720, 721, 722, 723, 724, 725, 726, 839, 840, 841, 818, 819, 800, 801, 802, 803, 727, 728, 729, 730, 731, 732, 733, 820, 821, 822, 823, 734, 735, 736, 737, 738, 739, 740, 842, 843, 824, 825, 826, 804, 805, 806, 807, 808, 741, 742, 743, 744, 745, 746, 747, 827, 828, 829, 748, 749, 750, 751, 752, 753, 754, 844, 845, 830, 831, 832, 755, 756, 757, 758, 759, 760, 761, 833, 834, 835, 809, 762, 763, 764, 765, 766, 810, 811, 812, 813, 846, 847, 848, 849, 836, 837, 838, 767, 768, 769, 770, 771, 772, 850, 851, 773, 774, 775, 776, 777, 855, 856, 857, 858, 852, 853, 854, 814, 815, 816, 817, 778, 779, 780, 781, 782, 783, 784, 859, 860, 861, 862, 785, 786, 787, 788, 789, 790, 869, 870, 871, 872, 863, 864, 865, 791, 792, 793, 794, 795, 796, 866, 867, 868, 880, 881, 882, 883, 877, 878, 879, 873, 874, 875, 876, 884, 885, 886, 887, 888, 889, 890, 992, 993, 994, 995, 965, 966, 967, 891, 892, 893, 894, 895, 896, 1037, 1038, 1039, 996, 997, 998, 999, 897, 898, 899, 900, 901, 902, 903, 1000, 1001, 1002, 968, 969, 970, 904, 905, 906, 907, 908, 909, 1040, 1041, 1042, 1003, 1004, 1005, 910, 911, 912, 913, 914, 915, 1006, 1007, 1008, 1009, 971, 972, 973, 974, 916, 917, 918, 919, 920, 1043, 1044, 1045, 1010, 1011, 1012, 1013, 921, 922, 923, 924, 925, 926, 927, 1014, 1015, 1016, 975, 976, 977, 928, 929, 930, 931, 932, 1046, 1047, 1048, 1049, 1017, 1018, 1019, 1020, 933, 934, 935, 936, 937, 938, 939, 1021, 1022, 1023, 978, 979, 980, 981, 982, 940, 941, 942, 943, 944, 945, 946, 1050, 1051, 1024, 1025, 1026, 1027, 947, 948, 949, 950, 951, 952, 1028, 1029, 1030, 1031, 983, 984, 985, 986, 987, 953, 954, 955, 956, 957, 958, 1052, 1053, 1054, 1032, 1033, 1034, 959, 960, 961, 962, 963, 964, 1035, 1036, 988, 989, 990, 991]\n"
     ]
    }
   ],
   "source": [
    "# Check if the last 175 questions in lcb_codegen_v6 are ordered by contest_date\n",
    "from datetime import datetime\n",
    "\n",
    "lcb_codegen_v6 = load_dataset(\"livecodebench/code_generation_lite\", version_tag=\"release_v6\", trust_remote_code=True)[\"test\"]\n",
    "\n",
    "# Create list of (index, date) tuples\n",
    "dates_with_indices = [(i, datetime.strptime(item[\"contest_date\"], \"%Y-%m-%dT%H:%M:%S\")) \n",
    "                      for i, item in enumerate(lcb_codegen_v6)]\n",
    "\n",
    "# Sort by date and get the indices in sorted order\n",
    "sorted_indices = [idx for idx, _ in sorted(dates_with_indices, key=lambda x: x[1])]\n",
    "\n",
    "print(\"Indices of questions in chronological order:\")\n",
    "print(sorted_indices)"
   ]
  },
  {
   "cell_type": "code",
   "execution_count": 25,
   "id": "48a49599",
   "metadata": {},
   "outputs": [
    {
     "name": "stdout",
     "output_type": "stream",
     "text": [
      "2025-03-22T00:00:00\n",
      "2025-03-22T00:00:00\n",
      "2025-03-22T00:00:00\n",
      "2025-03-22T00:00:00\n",
      "2025-03-22T19:30:00\n",
      "2025-03-22T19:30:00\n",
      "2025-03-22T19:30:00\n",
      "2025-03-22T19:30:00\n",
      "2025-03-23T00:00:00\n",
      "2025-03-23T00:00:00\n",
      "2025-03-23T00:00:00\n",
      "2025-03-23T00:00:00\n",
      "2025-03-23T00:00:00\n",
      "2025-03-29T00:00:00\n",
      "2025-03-29T00:00:00\n",
      "2025-03-29T00:00:00\n",
      "2025-03-29T00:00:00\n",
      "2025-03-29T00:00:00\n",
      "2025-03-29T00:00:00\n",
      "2025-03-29T07:30:00\n",
      "2025-03-29T07:30:00\n",
      "2025-03-29T07:30:00\n",
      "2025-03-29T19:30:00\n",
      "2025-03-29T19:30:00\n",
      "2025-03-29T19:30:00\n",
      "2025-04-05T00:00:00\n",
      "2025-04-05T00:00:00\n",
      "2025-04-05T00:00:00\n",
      "2025-04-05T00:00:00\n",
      "2025-04-05T00:00:00\n",
      "2025-04-05T00:00:00\n",
      "2025-04-05T19:30:00\n",
      "2025-04-05T19:30:00\n",
      "2025-04-06T00:00:00\n",
      "2025-04-06T00:00:00\n",
      "2025-04-06T00:00:00\n",
      "2025-04-06T00:00:00\n"
     ]
    }
   ],
   "source": [
    "for i in sorted_indices[-37:]:\n",
    "    print(lcb_codegen_v6[i][\"contest_date\"])"
   ]
  },
  {
   "cell_type": "code",
   "execution_count": 17,
   "id": "b9340e43",
   "metadata": {},
   "outputs": [
    {
     "name": "stdout",
     "output_type": "stream",
     "text": [
      "Indices of questions in chronological order:\n",
      "80\n"
     ]
    }
   ],
   "source": [
    "# Sort by date and get the indices in sorted order\n",
    "sorted_indices_march1 = [idx for idx, date in sorted(dates_with_indices, key=lambda x: x[1]) if date >= datetime(2025, 3, 1)]\n",
    "\n",
    "print(\"Indices of questions in chronological order:\")\n",
    "print(len(sorted_indices_march1))"
   ]
  },
  {
   "cell_type": "code",
   "execution_count": 11,
   "id": "492f00af",
   "metadata": {},
   "outputs": [
    {
     "name": "stdout",
     "output_type": "stream",
     "text": [
      "2025-04-06T00:00:00\n",
      "2025-03-29T07:30:00\n",
      "2025-03-22T00:00:00\n",
      "2025-03-01T18:30:00\n"
     ]
    }
   ],
   "source": [
    "print(lcb_codegen_v6[991][\"contest_date\"])\n",
    "print(lcb_codegen_v6[1053][\"contest_date\"])\n",
    "print(lcb_codegen_v6[952][\"contest_date\"])\n",
    "\n",
    "print(lcb_codegen_v6[-37][\"contest_date\"])"
   ]
  },
  {
   "cell_type": "code",
   "execution_count": 54,
   "id": "57094159",
   "metadata": {},
   "outputs": [
    {
     "name": "stdout",
     "output_type": "stream",
     "text": [
      "[949, 950, 951, 952, 1028, 1029, 1030, 1031, 983, 984, 985, 986, 987, 953, 954, 955, 956, 957, 958, 1052, 1053, 1054, 1032, 1033, 1034, 959, 960, 961, 962, 963, 964, 1035, 1036, 988, 989, 990, 991]\n"
     ]
    }
   ],
   "source": [
    "# Get the last 40 indices from sorted_indices\n",
    "last_40_indices = sorted_indices[-37:]\n",
    "\n",
    "# Get the corresponding questions from lcb_codegen_v6\n",
    "last_40_questions = [lcb_codegen_v6[idx] for idx in last_40_indices]\n",
    "print(last_40_indices)\n"
   ]
  },
  {
   "cell_type": "code",
   "execution_count": 83,
   "id": "ad9adc99",
   "metadata": {},
   "outputs": [
    {
     "name": "stdout",
     "output_type": "stream",
     "text": [
      "0.0\n",
      "[0.0, 0.0, 5.0, 0.0, 0.0, 0.0, 5.0, 0.0, 0.0, 5.0, 0.0, 0.0, 5.0, 2.0, 0.0, 0.0, 0.0, 0.0, 0.0, 0.0, 0.0, 0.0, 0.0, 0.0, 0.0, 5.0, 5.0, 0.0, 0.0, 0.0, 1.0, 0.0, 1.0, 0.0, 5.0, 0.0, 0.0]\n",
      "[0.0, 0.0, 5.0, 0.0, 5.0, 5.0, 0.0, 0.0, 0.0, 0.0, 0.0, 0.0, 0.0, 0.0, 0.0, 5.0, 0.0, 0.0, 5.0, 5.0, 0.0, 0.0, 0.0, 1.0, 0.0, 0.0, 0.0, 5.0, 2.0, 0.0, 0.0, 1.0, 0.0, 0.0, 0.0, 0.0, 0.0]\n"
     ]
    }
   ],
   "source": [
    "# Create a mask for the last 40 indices\n",
    "mask = [i in last_40_indices for i in range(len(overall_score))]\n",
    "\n",
    "# Apply mask to get scores for last 40 questions chronologically\n",
    "last_40_scores = [score for score, include in zip(overall_score, mask) if include]\n",
    "last_40_scores_new = [overall_score[i] for i in last_40_indices]\n",
    "\n",
    "# Apply mask to get labels for last 40 questions chronologically\n",
    "last_40_labels = [label for label, include in zip(labels, mask) if include]\n",
    "\n",
    "print(overall_score[989])\n",
    "print(last_40_scores)\n",
    "print(last_40_scores_new)"
   ]
  },
  {
   "cell_type": "code",
   "execution_count": 82,
   "id": "ad9b3743",
   "metadata": {},
   "outputs": [
    {
     "name": "stdout",
     "output_type": "stream",
     "text": [
      "True\n",
      "0.0\n",
      "[949, 950, 951, 952, 953, 954, 955, 956, 957, 958, 959, 960, 961, 962, 963, 964, 983, 984, 985, 986, 987, 988, 989, 990, 991, 1028, 1029, 1030, 1031, 1032, 1033, 1034, 1035, 1036, 1052, 1053, 1054]\n"
     ]
    }
   ],
   "source": [
    "print(mask[1036])\n",
    "print(overall_score[1036])\n",
    "selected_indices = [i for i, include in enumerate(mask) if include]\n",
    "print(selected_indices)"
   ]
  },
  {
   "cell_type": "code",
   "execution_count": 52,
   "id": "d7faf28d",
   "metadata": {},
   "outputs": [
    {
     "name": "stdout",
     "output_type": "stream",
     "text": [
      "[0.0, 0.0, 5.0, 0.0, 0.0, 0.0, 5.0, 0.0, 0.0, 5.0, 0.0, 0.0, 5.0, 2.0, 0.0, 0.0, 0.0, 0.0, 0.0, 0.0, 0.0, 0.0, 0.0, 0.0, 0.0, 5.0, 5.0, 0.0, 0.0, 0.0, 1.0, 0.0, 1.0, 0.0, 5.0, 0.0, 0.0]\n"
     ]
    }
   ],
   "source": [
    "print(last_40_scores)"
   ]
  },
  {
   "cell_type": "code",
   "execution_count": 17,
   "id": "6ce4b6b7",
   "metadata": {},
   "outputs": [
    {
     "data": {
      "text/plain": [
       "0.0"
      ]
     },
     "execution_count": 17,
     "metadata": {},
     "output_type": "execute_result"
    }
   ],
   "source": [
    "last_40_scores[0]"
   ]
  },
  {
   "cell_type": "code",
   "execution_count": 18,
   "id": "990e743b",
   "metadata": {},
   "outputs": [
    {
     "name": "stdout",
     "output_type": "stream",
     "text": [
      "30\n",
      "27\n",
      "2\n",
      "7\n",
      "18\n"
     ]
    }
   ],
   "source": [
    "# Count number of questions in overall_score[-175:] that are not 5\n",
    "num_not_5 = sum(1 for score in last_40_scores if score != 5.0)\n",
    "print(num_not_5)\n",
    "\n",
    "# Count number of questions in labels[-175:] that are not 5\n",
    "num_not_0 = sum(1 for score in last_40_scores if score == 0.0)\n",
    "print(num_not_0)\n",
    "\n",
    "# Count number of questions where overall_score[-175:] == 0 and labels[-175:] == \"easy\"\n",
    "num_easy = sum(score == 0 and label == \"easy\" \n",
    "               for score, label in zip(last_40_scores, last_40_labels))\n",
    "print(num_easy)\n",
    "\n",
    "# Count number of questions where overall_score[-175:] == 0 and labels[-175:] == \"easy\"\n",
    "num_medium = sum(score == 0 and label == \"medium\" \n",
    "               for score, label in zip(last_40_scores, last_40_labels))\n",
    "print(num_medium)\n",
    "\n",
    "# Count number of questions where overall_score[-175:] == 0 and labels[-175:] == \"easy\"\n",
    "num_hard = sum(score == 0 and label == \"hard\" \n",
    "               for score, label in zip(last_40_scores, last_40_labels))\n",
    "print(num_hard)"
   ]
  },
  {
   "cell_type": "code",
   "execution_count": 89,
   "id": "78640f6c",
   "metadata": {},
   "outputs": [],
   "source": [
    "# Get contest IDs for the last 40 questions where score is not 5\n",
    "best_30_question_ids = [lcb_codegen_v6[idx]['question_id'] for idx, score in zip(last_40_indices, last_40_scores) if score != 5.0]"
   ]
  },
  {
   "cell_type": "code",
   "execution_count": 90,
   "id": "2f4fc5a7",
   "metadata": {},
   "outputs": [
    {
     "data": {
      "text/plain": [
       "['abc398_d',\n",
       " 'abc398_a',\n",
       " 'abc398_g',\n",
       " '3817',\n",
       " '3809',\n",
       " '3744',\n",
       " 'arc195_e',\n",
       " 'arc195_c',\n",
       " 'arc195_d',\n",
       " 'abc399_e',\n",
       " 'abc399_d',\n",
       " 'abc399_a',\n",
       " 'abc399_c',\n",
       " 'abc399_f',\n",
       " 'abc399_b',\n",
       " '3811',\n",
       " '3805',\n",
       " '3765',\n",
       " '3832',\n",
       " '3793',\n",
       " '3717',\n",
       " 'abc400_a',\n",
       " 'abc400_b',\n",
       " 'abc400_e',\n",
       " 'abc400_g',\n",
       " '3773',\n",
       " '3777',\n",
       " 'arc196_b',\n",
       " 'arc196_a',\n",
       " 'arc196_d']"
      ]
     },
     "execution_count": 90,
     "metadata": {},
     "output_type": "execute_result"
    }
   ],
   "source": [
    "best_30_question_ids"
   ]
  },
  {
   "cell_type": "code",
   "execution_count": 16,
   "id": "0137587b",
   "metadata": {},
   "outputs": [
    {
     "data": {
      "text/plain": [
       "['2025-03-22T00:00:00',\n",
       " '2025-03-22T00:00:00',\n",
       " '2025-03-22T00:00:00',\n",
       " '2025-03-22T19:30:00',\n",
       " '2025-03-22T19:30:00',\n",
       " '2025-03-22T19:30:00',\n",
       " '2025-03-23T00:00:00',\n",
       " '2025-03-23T00:00:00',\n",
       " '2025-03-23T00:00:00',\n",
       " '2025-03-29T00:00:00',\n",
       " '2025-03-29T00:00:00',\n",
       " '2025-03-29T00:00:00',\n",
       " '2025-03-29T00:00:00',\n",
       " '2025-03-29T00:00:00',\n",
       " '2025-03-29T00:00:00',\n",
       " '2025-03-29T07:30:00',\n",
       " '2025-03-29T07:30:00',\n",
       " '2025-03-29T07:30:00',\n",
       " '2025-03-29T19:30:00',\n",
       " '2025-03-29T19:30:00',\n",
       " '2025-03-29T19:30:00',\n",
       " '2025-04-05T00:00:00',\n",
       " '2025-04-05T00:00:00',\n",
       " '2025-04-05T00:00:00',\n",
       " '2025-04-05T00:00:00',\n",
       " '2025-04-05T19:30:00',\n",
       " '2025-04-05T19:30:00',\n",
       " '2025-04-06T00:00:00',\n",
       " '2025-04-06T00:00:00',\n",
       " '2025-04-06T00:00:00']"
      ]
     },
     "execution_count": 16,
     "metadata": {},
     "output_type": "execute_result"
    }
   ],
   "source": [
    "best_30_contest_dates = [lcb_codegen_v6[idx]['contest_date'] for idx, score in zip(last_40_indices, last_40_scores) if score != 5.0]\n",
    "best_30_contest_dates"
   ]
  },
  {
   "cell_type": "code",
   "execution_count": 86,
   "id": "143a732b",
   "metadata": {},
   "outputs": [],
   "source": [
    "actual_best_30_question_ids = [lcb_codegen_v6[idx]['question_id'] for idx, score in zip(last_40_indices, last_40_scores_new) if score != 5.0]"
   ]
  },
  {
   "cell_type": "code",
   "execution_count": 87,
   "id": "19506a08",
   "metadata": {},
   "outputs": [
    {
     "data": {
      "text/plain": [
       "['abc398_d',\n",
       " 'abc398_a',\n",
       " 'abc398_g',\n",
       " '3794',\n",
       " '3744',\n",
       " 'arc195_e',\n",
       " 'arc195_b',\n",
       " 'arc195_c',\n",
       " 'arc195_d',\n",
       " 'arc195_a',\n",
       " 'abc399_e',\n",
       " 'abc399_d',\n",
       " 'abc399_c',\n",
       " 'abc399_f',\n",
       " '3805',\n",
       " '3765',\n",
       " '3832',\n",
       " '3793',\n",
       " '3717',\n",
       " 'abc400_c',\n",
       " 'abc400_d',\n",
       " 'abc400_b',\n",
       " 'abc400_e',\n",
       " 'abc400_g',\n",
       " '3773',\n",
       " '3777',\n",
       " 'arc196_b',\n",
       " 'arc196_c',\n",
       " 'arc196_a',\n",
       " 'arc196_d']"
      ]
     },
     "execution_count": 87,
     "metadata": {},
     "output_type": "execute_result"
    }
   ],
   "source": [
    "actual_best_30_question_ids"
   ]
  },
  {
   "cell_type": "code",
   "execution_count": 91,
   "id": "aad6bb5f",
   "metadata": {},
   "outputs": [
    {
     "name": "stdout",
     "output_type": "stream",
     "text": [
      "{'3811', 'abc399_a', '3809', 'abc399_b', '3817', 'abc400_a'}\n",
      "{'abc400_d', 'arc195_b', '3794', 'arc195_a', 'arc196_c', 'abc400_c'}\n"
     ]
    }
   ],
   "source": [
    "original = set(['abc398_d',\n",
    " 'abc398_a',\n",
    " 'abc398_g',\n",
    " '3817',\n",
    " '3809',\n",
    " '3744',\n",
    " 'arc195_e',\n",
    " 'arc195_c',\n",
    " 'arc195_d',\n",
    " 'abc399_e',\n",
    " 'abc399_d',\n",
    " 'abc399_a',\n",
    " 'abc399_c',\n",
    " 'abc399_f',\n",
    " 'abc399_b',\n",
    " '3811',\n",
    " '3805',\n",
    " '3765',\n",
    " '3832',\n",
    " '3793',\n",
    " '3717',\n",
    " 'abc400_a',\n",
    " 'abc400_b',\n",
    " 'abc400_e',\n",
    " 'abc400_g',\n",
    " '3773',\n",
    " '3777',\n",
    " 'arc196_b',\n",
    " 'arc196_a',\n",
    " 'arc196_d'])\n",
    "\n",
    "new = set(['abc398_d',\n",
    " 'abc398_a',\n",
    " 'abc398_g',\n",
    " '3794',\n",
    " '3744',\n",
    " 'arc195_e',\n",
    " 'arc195_b',\n",
    " 'arc195_c',\n",
    " 'arc195_d',\n",
    " 'arc195_a',\n",
    " 'abc399_e',\n",
    " 'abc399_d',\n",
    " 'abc399_c',\n",
    " 'abc399_f',\n",
    " '3805',\n",
    " '3765',\n",
    " '3832',\n",
    " '3793',\n",
    " '3717',\n",
    " 'abc400_c',\n",
    " 'abc400_d',\n",
    " 'abc400_b',\n",
    " 'abc400_e',\n",
    " 'abc400_g',\n",
    " '3773',\n",
    " '3777',\n",
    " 'arc196_b',\n",
    " 'arc196_c',\n",
    " 'arc196_a',\n",
    " 'arc196_d'])\n",
    "\n",
    "\n",
    "shouldnt_have_run = original - new\n",
    "need_to_run = new - original\n",
    "\n",
    "print(shouldnt_have_run)\n",
    "print(need_to_run)"
   ]
  },
  {
   "cell_type": "code",
   "execution_count": null,
   "id": "39d2a90c",
   "metadata": {},
   "outputs": [],
   "source": []
  }
 ],
 "metadata": {
  "kernelspec": {
   "display_name": ".venv",
   "language": "python",
   "name": "python3"
  },
  "language_info": {
   "codemirror_mode": {
    "name": "ipython",
    "version": 3
   },
   "file_extension": ".py",
   "mimetype": "text/x-python",
   "name": "python",
   "nbconvert_exporter": "python",
   "pygments_lexer": "ipython3",
   "version": "3.10.12"
  }
 },
 "nbformat": 4,
 "nbformat_minor": 5
}
